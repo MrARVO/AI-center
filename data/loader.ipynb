{
 "cells": [
  {
   "cell_type": "code",
   "execution_count": null,
   "outputs": [],
   "source": [
    "from pathlib import Path\n",
    "\n",
    "import loader\n",
    "\n",
    "STORAGE = Path(\"storage\")\n",
    "\n",
    "# Docs should be in this notebook. Explain data sources, parameters meaning, etc\n",
    "# Provide example!"
   ],
   "metadata": {
    "collapsed": false
   }
  },
  {
   "cell_type": "markdown",
   "source": [
    "# Genome assembly\n",
    "\n",
    "TODO: docs"
   ],
   "metadata": {
    "collapsed": false
   }
  },
  {
   "cell_type": "code",
   "execution_count": null,
   "outputs": [],
   "source": [
    "fasta = STORAGE.joinpath(\"assembly.fa.gz\")\n",
    "\n",
    "loader.assembly(tag=\"GRCh38\", saveto=fasta)\n",
    "\n",
    "assert fasta.exists() and fasta.with_suffix(\".fa.gz.fai\").exists(), \\\n",
    "    \"The download failed! Please, retry.\""
   ],
   "metadata": {
    "collapsed": false
   }
  },
  {
   "cell_type": "markdown",
   "source": [
    "# Omics data\n",
    "\n",
    "TODO: docs"
   ],
   "metadata": {
    "collapsed": false
   }
  },
  {
   "cell_type": "code",
   "execution_count": null,
   "outputs": [],
   "source": [
    "# BED files must be saved in the storage folder, in bed format with meaningful names\n",
    "loader.omics(????)"
   ],
   "metadata": {
    "collapsed": false
   }
  }
 ],
 "metadata": {
  "kernelspec": {
   "display_name": "Python 3",
   "language": "python",
   "name": "python3"
  },
  "language_info": {
   "codemirror_mode": {
    "name": "ipython",
    "version": 2
   },
   "file_extension": ".py",
   "mimetype": "text/x-python",
   "name": "python",
   "nbconvert_exporter": "python",
   "pygments_lexer": "ipython2",
   "version": "2.7.6"
  }
 },
 "nbformat": 4,
 "nbformat_minor": 0
}

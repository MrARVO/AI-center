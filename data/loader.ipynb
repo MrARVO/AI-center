{
 "cells": [
  {
   "cell_type": "code",
   "execution_count": null,
   "metadata": {
    "collapsed": true
   },
   "outputs": [],
   "source": [
    "import loader\n",
    "\n",
    "# Docs (if any) should be in this notebook\n",
    "\n",
    "# Results must be saved in the storage folder: storage/ASSEMBLY-TAG/NAME.bed.gz\n",
    "# Example: storage/hg38/H3K4me3.bed.gz\n",
    "\n",
    "# Any loading-related data must be located in the loader folder\n",
    "\n",
    "loader.omics(...) # Download omics data"
   ]
  }
 ],
 "metadata": {
  "kernelspec": {
   "display_name": "Python 3",
   "language": "python",
   "name": "python3"
  },
  "language_info": {
   "codemirror_mode": {
    "name": "ipython",
    "version": 2
   },
   "file_extension": ".py",
   "mimetype": "text/x-python",
   "name": "python",
   "nbconvert_exporter": "python",
   "pygments_lexer": "ipython2",
   "version": "2.7.6"
  }
 },
 "nbformat": 4,
 "nbformat_minor": 0
}
